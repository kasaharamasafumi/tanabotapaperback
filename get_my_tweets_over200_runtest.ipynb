{
 "cells": [
  {
   "cell_type": "code",
   "execution_count": 5,
   "metadata": {},
   "outputs": [
    {
     "name": "stdout",
     "output_type": "stream",
     "text": [
      "自分のuser_idを入力してください\n",
      ">> ks_mocchaso\n",
      "----------------------------------------------------\n",
      "['Twitter APIの登録思ったよりだるくて草', '@ahpjop 何となく検索かけてみたら、出てきてビックリしました https://t.co/7b17zYMNHI', 'すげえ、TrelloってiOSアプリ版もあるのか…！', 'Git LFS導入できぬ', 'Windows8、MeCabは何とか入れられるけどNEOlogdインストールできねえんか\\n今後の課題に挙げようかな…笑', '卒研関係で貰ったデータに不備があってキレそう', 'Slack連携のテスト〜', 'RT @never_be_a_pm: プログラミング学ぶ上で、1番大事なのが逆算です。\\n\\n・何ができるようになりたいのかを決める\\n・そのために何が必要なのかを逆算してリストアップする\\n・それが学べるWebサービス、書籍を選ぶ\\n\\n逆算しないと、いつまでも「できそうなコンテンツ」ば…', 'RT @never_be_a_pm: あと、最近は最新技術の論文をGoogle Scholarみて事例調べたり、Lightening TalkのSlideshareみて技術のキャッチアップして、自分でも実装して何かしら便利そうだったらアプリに取り入れたりしています。 https…', 'RT @never_be_a_pm: https://t.co/5JyvWY96zI', 'RT @never_be_a_pm: プログラミング独学者向けに、圧倒的に質の高い情報だけ発信するサイトを作りました！\\n\\n第4弾はPythonを学習する人向けにチュートリアルをまとめました。お盆にプログラミングの勉強を始めたい！という方はぜひ！\\n\\nhttps://t.co/ac…', 'RT @kazuneet: jupyter notebook使いの皆様へ。東大松尾研の人に教えてもらいました。\\nコーディングする前にこのおまじないをしてみてください。\\n感動します。\\nfrom IPython.core.display import display, HTML…', 'RT @hatenablog: こちらはどうでしょう #はてなブログ\\n趣味として楽しむ論文読みのススメ - karaage. [からあげ]\\nhttps://t.co/mOQRTpQwxp', 'はてなブログに投稿しました #はてなブログ\\nタイピング練習について - mocchaso - もっちゃそ\\nhttps://t.co/ME6EQlB5s1', '@ahpjop おお、ありがとうございます！', '@ahpjop あ、完走コメントは以下でお願いします！笑\\n\\n回を追うごとにPythonの知識が少しずつ増えていき、楽しさも増していきました。\\n解くのに時間がかかるときでも、辛抱強く取り組めたのは良かったです。\\nこの演習での経験を活… https://t.co/BBaSqujk9g', 'Python100本ノック、クリアー！！\\n#もっちゃそメモ', 'ついに完走いたしましたー！！', 'Python100本ノック 97本目～101本目（96本目～100本目） - mocchaso - もっちゃそ https://t.co/6357wsVTbB', '大学と某企業合同開催の開発コンテストの中継観てるけど、なかなかオモロい', 'Python100本ノック、あともう少し頑張るぞ…！💪', 'はてなブログに投稿しました #はてなブログ\\nPython100本ノック 92本目～96本目（91本目～95本目） - mocchaso - もっちゃそ\\nhttps://t.co/0bV3j5FrIn', 'はてなブログに投稿しました #はてなブログ\\nPython100本ノック 90本目～91本目（89本目～90本目） - mocchaso - もっちゃそ\\nhttps://t.co/tRgYtpdQQ8', 'はてなブログに投稿しました #はてなブログ\\nPython100本ノック 82本目〜89本目(81本目〜88本目) - mocchaso - もっちゃそ\\nhttps://t.co/jTRvOI9rvL', 'Python100本ノック 72本目～81本目（71本目～80本目） - mocchaso - もっちゃそ https://t.co/hF6jGA0cyP', '@ahpjop そんな事無いですよ笑\\nまだまだ精進いたします(^_^;)', '@ahpjop はい、終わりが見えてきました…！\\nここまでやってきて、力がついてる感じしてます。', '@ahpjop お褒めいただき恐縮です😆\\nやるからには自分の力になるようなやり方でやろうと思った次第です！\\nやっと80本目まで出来ました…！', 'Python100本ノック 62本目～71本目（63本目～70本目） - mocchaso - もっちゃそ https://t.co/lSYHCdRRSj', 'Python100本ノック 53本目～61本目 - mocchaso - もっちゃそ https://t.co/f445ryNZqZ', 'Python100本ノック 45本目～52本目 - mocchaso - もっちゃそ https://t.co/1znd9a2HNn', 'Python100本ノック 41本目～44本目 - mocchaso - もっちゃそ https://t.co/Ow1q9L5p91', 'RT @kei11119: ドラクエより分かりやすいw https://t.co/aaqGemIULZ', 'Python100本ノック 36本目～40本目 - mocchaso - もっちゃそ https://t.co/G7Z8YEkCaj', 'Python100本ノック 31本目～35本目 - mocchaso - もっちゃそ https://t.co/hBvzaQO5Vm', 'Python100本ノック 26本目～30本目 - mocchaso - もっちゃそ https://t.co/YQu8qtyZKV', 'Python100本ノック 21本目～25本目 - mocchaso - もっちゃそ https://t.co/knb2k5AE06', '勘弁してくれ…', '駅着く直前で電車止まったざけんな', '@ahpjop 自分も後者ですねー。焦らず進めていきます！\\n\\n メモみたいな感じで書いてたんですが、思わぬところで役立ったみたいで嬉しいです…！', '@ahpjop おおお、渡辺さんからコメント頂けるなんて感激です…！\\n\\nありがとうございます！\\n一気に進められないかもしれませんが、少しずつでも頑張ります💪', 'Python100本ノック 16本目～20本目 - mocchaso - もっちゃそ https://t.co/eCzerOE7HV', 'Python100本ノック 11本目～15本目  - mocchaso - もっちゃそ https://t.co/p41YtVFOlt', 'Python100本ノック 7本目～10本目 - mocchaso - もっちゃそ https://t.co/231tgH40pD', '論文の著者にメール出したら、きちんと返信してくれて凄く感動した…。', '就活、完全にDONE', '卒業研究のテーマの候補、1つ消えた…orz\\n\\nhttps://t.co/hSiQpuysO1…', '卒論に役立つかも… https://t.co/j846PQLLBP', '@ahpjop そういうことでしたか笑\\n\\n休憩ゾーンのおかげで、より続けられそうです！', '@ahpjop はい、頑張ります！\\n段階的に難しくなるわけではないんですね。休憩ゾーンって感じでしょうか…？', '@ahpjop こちらこそ、問題を作ってくださりありがとうございます！\\nまだ15問までしか解けてないので、頑張ります笑', '感情分析+対話コーパス形成\\n→ユーザーがシステムに質問を投げて、システムがそれを解決に導こうとする対話システム\\n\\n果たしてこれを実現できるのか…？orz', '卒業研究でやること固めてる途中だけど、思いついた方針でちょくちょく壁にぶつかるなあ…。', 'はてなブログに投稿しました #はてなブログ\\nmocchaso - もっちゃそ\\nhttps://t.co/7I4272waQt', 'はてなブログの設定をいじってみた - mocchaso - もっちゃそ https://t.co/7pcBNfRSKO', 'やりたいことメモ - mocchaso - もっちゃそ https://t.co/7aHiU2CsFs', '初めての投稿～ - mocchaso - もっちゃそ https://t.co/zWbxnE6cHc', '・PyQ https://t.co/7aU7aKppcF\\nこんなサービスもあるのかー。一応メモ。\\n#もっちゃそメモ', '・Aidemy(とりあえず無料コースだけ)\\n#もっちゃそメモ', '・Unityの勉強(チュートリアル試していじってみたり)\\n・Unity カードゲーム創りの続き\\n・Unity Kinectと連携させてるゲーム創りの続き\\n・ゼロからDeepを読む&amp;コード動かす\\n・パターン認識の授業のコード動かす… https://t.co/xIiv8X9WT8', '2018年5月24日（木）\\n#はじめてのツイート', '・Python100本ノック https://t.co/AQADobDKH1\\n・Progate https://t.co/ZkZYWZgXYW\\n・CheckiO https://t.co/i8yeD7dc87\\n・言語処理100本ノ… https://t.co/nevVjEltRe', 'プログラミング関連をつぶやくためのアカウントを作ってみた。初ツイート！']\n",
      "63\n"
     ]
    }
   ],
   "source": [
    "#!/usr/bin/env python                                                                                                                                             \n",
    "# -*- coding:utf-8 -*-  \n",
    "import json\n",
    "from requests_oauthlib import OAuth1Session\n",
    "from twitter import Twitter, OAuth\n",
    "from janome.tokenizer import Tokenizer\n",
    "import collections\n",
    "import re\n",
    "from collections import Counter, defaultdict\n",
    "import sys, json, time, calendar\n",
    "from datetime import datetime\n",
    "from dateutil.relativedelta import relativedelta\n",
    "\n",
    "#APIキーの設置\n",
    "CONSUMER_KEY =  '\n",
    "CONSUMER_SECRET = ''\n",
    "ACCESS_TOKEN = ''\n",
    "ACCESS_SECRET = ''\n",
    "\n",
    "t = Twitter(auth=OAuth(\n",
    "    ACCESS_TOKEN,\n",
    "    ACCESS_SECRET,\n",
    "    CONSUMER_KEY,\n",
    "    CONSUMER_SECRET\n",
    "))\n",
    "    \n",
    "twitter = OAuth1Session(CONSUMER_KEY, CONSUMER_SECRET, ACCESS_TOKEN, ACCESS_SECRET)\n",
    "url = \"https://api.twitter.com/1.1/search/tweets.json\"\n",
    "userTweets = []\n",
    "\n",
    "def get_userstweets_again(screen_name, max_id):\n",
    "    max_id = max_id\n",
    "    count = 200 #一度のアクセスで何件取ってくるか\n",
    "    aTimeLine = t.statuses.user_timeline(screen_name = screen_name, count=count, max_id=max_id)\n",
    "    for tweet in aTimeLine:\n",
    "        userTweets.append(tweet['text'])\n",
    "\n",
    "def get_userstweets(screen_name):\n",
    "    number_of_tweets = 0\n",
    "    count = 200 #一度のアクセスで何件取ってくるか\n",
    "    aTimeLine = t.statuses.user_timeline(screen_name = screen_name, count=count)\n",
    "    for tweet in aTimeLine:\n",
    "        number_of_tweets += 1\n",
    "        userTweets.append(tweet['text'])\n",
    "        if number_of_tweets >= 200:\n",
    "            max_id = tweet[\"id\"]\n",
    "            print(\"aa\")\n",
    "            print(max_id)\n",
    "            print(\"bb\")\n",
    "            get_userstweets_again(screen_name, max_id)\n",
    "\n",
    "#検索したい相手を指定 \n",
    "print(\"自分のuser_idを入力してください\")\n",
    "my_user_id = input('>> ')\n",
    "print('----------------------------------------------------')\n",
    "\n",
    "get_userstweets(my_user_id)\n",
    "\n",
    "print(userTweets)\n",
    "print(len(userTweets))\n"
   ]
  },
  {
   "cell_type": "code",
   "execution_count": null,
   "metadata": {
    "collapsed": true
   },
   "outputs": [],
   "source": []
  }
 ],
 "metadata": {
  "kernelspec": {
   "display_name": "Python 3",
   "language": "python",
   "name": "python3"
  },
  "language_info": {
   "codemirror_mode": {
    "name": "ipython",
    "version": 3
   },
   "file_extension": ".py",
   "mimetype": "text/x-python",
   "name": "python",
   "nbconvert_exporter": "python",
   "pygments_lexer": "ipython3",
   "version": "3.6.3"
  }
 },
 "nbformat": 4,
 "nbformat_minor": 2
}
