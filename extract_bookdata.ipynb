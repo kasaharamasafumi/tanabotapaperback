{
 "cells": [
  {
   "cell_type": "code",
   "execution_count": 1,
   "metadata": {
    "collapsed": true
   },
   "outputs": [],
   "source": [
    "from pathlib import Path\n",
    "import re\n",
    "\n",
    "# 本のデータ名\n",
    "books = [\"bocchan.txt\", \"chumonno_oi_ryoriten.txt\", \"hashire_merosu.txt\", \"kaijin_nijumenso.txt\", \"ningen_shikkaku.txt\"]\n",
    "# 抽出した本のストーリーを保存するフォルダ\n",
    "storing_path = Path(\"./extracted_bookdata\")\n",
    "\n",
    "for book in books:\n",
    "    book_path = Path(\"./orig_bookdata\" + \"/\" + book) # Path(Path(\"./orig_bookdata\") / book) でもOK\n",
    "    with book_path.open(\"r\") as file:\n",
    "        text = \"\"\n",
    "        for line in file:\n",
    "            text += line\n",
    "        # ルビ、注釈などの除去\n",
    "        # 一部だけ抽出したかったが、うまくできなかったので文章全体を保存\n",
    "        # 参考サイト：http://newtechnologylifestyle.net/711-2/\n",
    "        text = re.split(r'\\-{5,}', text)[2]\n",
    "        text = re.split(r'底本：', text)[0]\n",
    "        text = re.sub(r'《.+?》', '', text)\n",
    "        text = re.sub(r'［＃.+?］', '', text)\n",
    "        text = text.strip()\n",
    "    \n",
    "    # extracted_bookdata内のtxtファイルを使っていく\n",
    "    story_path = Path(storing_path.name + \"/\" + book)\n",
    "    story_path.write_text(text, encoding=\"utf-8\")"
   ]
  },
  {
   "cell_type": "code",
   "execution_count": null,
   "metadata": {
    "collapsed": true
   },
   "outputs": [],
   "source": []
  }
 ],
 "metadata": {
  "kernelspec": {
   "display_name": "Python 3",
   "language": "python",
   "name": "python3"
  },
  "language_info": {
   "codemirror_mode": {
    "name": "ipython",
    "version": 3
   },
   "file_extension": ".py",
   "mimetype": "text/x-python",
   "name": "python",
   "nbconvert_exporter": "python",
   "pygments_lexer": "ipython3",
   "version": "3.6.3"
  }
 },
 "nbformat": 4,
 "nbformat_minor": 2
}
